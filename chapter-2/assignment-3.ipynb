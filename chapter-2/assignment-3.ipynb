{
 "cells": [
  {
   "cell_type": "code",
   "execution_count": 4,
   "metadata": {},
   "outputs": [
    {
     "name": "stdout",
     "output_type": "stream",
     "text": [
      "Rehma\n",
      "Hadia\n",
      "Maham\n",
      "Bisma\n"
     ]
    }
   ],
   "source": [
    "#3-1: Names\n",
    "#List of friends\n",
    "names=['Rehma','Hadia','Maham','Bisma']\n",
    "#Print each person's name by accessing each element in the list, one at a time\n",
    "for name in names:\n",
    "    print(name)"
   ]
  },
  {
   "cell_type": "code",
   "execution_count": 5,
   "metadata": {},
   "outputs": [
    {
     "name": "stdout",
     "output_type": "stream",
     "text": [
      "Hello Rehma, how is your day going?\n",
      "Hello Hadia, how is your day going?\n",
      "Hello Maham, how is your day going?\n",
      "Hello Bisma, how is your day going?\n"
     ]
    }
   ],
   "source": [
    "#3-2: Greetings\n",
    "#Print a message to the friends above\n",
    "for name in names:\n",
    "    print(f'Hello {name}, how is your day going?')"
   ]
  },
  {
   "cell_type": "code",
   "execution_count": 6,
   "metadata": {},
   "outputs": [
    {
     "name": "stdout",
     "output_type": "stream",
     "text": [
      "I would like to own a Mercedes BenzGT63S\n",
      "I would like to own a Genesis GV80 SUV\n",
      "I would like to own a  Lamborghini Aventador S\n",
      "I would like to own a  Porsche Panamera GTS\n",
      "I would like to own a Audi RS\n",
      "I would like to own a Porsche Carrera 911\n"
     ]
    }
   ],
   "source": [
    "#3-3: Your Own List\n",
    "#List of favorite modes of transport\n",
    "cars=['Mercedes BenzGT63S','Genesis GV80 SUV',' Lamborghini Aventador S',' Porsche Panamera GTS','Audi RS','Porsche Carrera 911',]\n",
    "#Print a series of statements using the list\n",
    "for car in cars:\n",
    "    print(f'I would like to own a {car}')"
   ]
  },
  {
   "cell_type": "code",
   "execution_count": 7,
   "metadata": {},
   "outputs": [
    {
     "name": "stdout",
     "output_type": "stream",
     "text": [
      "Dear Lisa, I would like to invite you to have dinner with me, and accompany me.\n",
      "Dear Rose, I would like to invite you to have dinner with me, and accompany me.\n",
      "Dear Jennie, I would like to invite you to have dinner with me, and accompany me.\n",
      "Dear Jisoo, I would like to invite you to have dinner with me, and accompany me.\n"
     ]
    }
   ],
   "source": [
    "#3-4: Guest List\n",
    "#List of guests for dinner\n",
    "guests=['Lisa','Rose','Jennie','Jisoo']\n",
    "for guest in guests:\n",
    "    print(f'Dear {guest}, I would like to invite you to have dinner with me, and accompany me.')"
   ]
  },
  {
   "cell_type": "code",
   "execution_count": 8,
   "metadata": {},
   "outputs": [
    {
     "name": "stdout",
     "output_type": "stream",
     "text": [
      "Unfortunately Jennie can't come\n",
      "Unfortunately Jisoo can't come\n",
      "Dear Lisa, you are invited to the dinner.\n",
      "Dear Rose, you are invited to the dinner.\n",
      "Dear Yoongi, you are invited to the dinner.\n",
      "Dear Hobi, you are invited to the dinner.\n"
     ]
    }
   ],
   "source": [
    "#3-5: Changing Guest List\n",
    "#Print the guest who can't come\n",
    "unavailable_guests=guests[2:4]\n",
    "for unavailable_guest in unavailable_guests:\n",
    "    print(f\"Unfortunately {unavailable_guest} can't come\")\n",
    "#Replacing unavailable guests with new ones\n",
    "guests[2:4]=['Yoongi','Hobi']\n",
    "#Print new messages\n",
    "for guest in guests:\n",
    "    print(f'Dear {guest}, you are invited to the dinner.')"
   ]
  },
  {
   "cell_type": "code",
   "execution_count": 9,
   "metadata": {},
   "outputs": [
    {
     "name": "stdout",
     "output_type": "stream",
     "text": [
      "\n",
      "Dear guests, I found a bigger table so, I'm inviting more guests.\n",
      "\n",
      "Here are the new invitations:\n",
      "Dear Namjoon, you are invited to the dinner party!\n",
      "Dear Lisa, you are invited to the dinner party!\n",
      "Dear Rose, you are invited to the dinner party!\n",
      "Dear Jin, you are invited to the dinner party!\n",
      "Dear Yoongi, you are invited to the dinner party!\n",
      "Dear Hobi, you are invited to the dinner party!\n",
      "Dear Jimin, you are invited to the dinner party!\n",
      "Dear Tae, you are invited to the dinner party!\n",
      "Dear Jungkook, you are invited to the dinner party!\n"
     ]
    }
   ],
   "source": [
    "#3-6: More Guests\n",
    "#Informing everyone about a bigger arrangement\n",
    "print(\"\\nDear guests, I found a bigger table so, I'm inviting more guests.\")\n",
    "#Adding more guests\n",
    "guests.insert(0,'Namjoon')\n",
    "guests.insert(3,'Jin')\n",
    "guests.append('Jungkook')\n",
    "guests.insert(6,'Jimin')\n",
    "guests.insert(7,'Tae')\n",
    "#Print a new invitation\n",
    "print('\\nHere are the new invitations:')\n",
    "for guest in guests:\n",
    "    print(f'Dear {guest}, you are invited to the dinner party!')"
   ]
  },
  {
   "cell_type": "code",
   "execution_count": 10,
   "metadata": {},
   "outputs": [
    {
     "name": "stdout",
     "output_type": "stream",
     "text": [
      "\n",
      "I'm sorry, but I can only invite two guests.\n",
      "Dear Jungkook, sorry I can't invite you.\n",
      "Dear Tae, sorry I can't invite you.\n",
      "Dear Jimin, sorry I can't invite you.\n",
      "Dear Hobi, sorry I can't invite you.\n",
      "Dear Yoongi, sorry I can't invite you.\n",
      "Dear Jin, sorry I can't invite you.\n",
      "Dear Rose, sorry I can't invite you.\n",
      "Dear Namjoon, you are still invited to the dinner party!\n",
      "Dear Lisa, you are still invited to the dinner party!\n",
      "\n",
      "Final guests are []\n"
     ]
    }
   ],
   "source": [
    "#3-7: Shrinking Guests List\n",
    "#Informing everyone that only two guests can be invited\n",
    "print(\"\\nI'm sorry, but I can only invite two guests.\")\n",
    "#Removing the guests\n",
    "while len(guests)>2:\n",
    "    removed_guests=guests.pop()\n",
    "    print(f\"Dear {removed_guests}, sorry I can't invite you.\")\n",
    "#Print a message to the remaining guests\n",
    "for guest in guests:\n",
    "    print(f'Dear {guest}, you are still invited to the dinner party!')\n",
    "#Removing the last two guests\n",
    "del guests[0]\n",
    "del guests[0]\n",
    "#Print the empty list to confirm that it's empty\n",
    "print(f\"\\nFinal guests are {guests}\")"
   ]
  },
  {
   "cell_type": "code",
   "execution_count": 11,
   "metadata": {},
   "outputs": [
    {
     "name": "stdout",
     "output_type": "stream",
     "text": [
      "Original list:\n",
      "['Paris', 'Madinah', 'Seoul', 'Busan', 'Tokyo']\n",
      "\n",
      "List in alphabetical order(using sorted()):\n",
      "['Busan', 'Madinah', 'Paris', 'Seoul', 'Tokyo']\n",
      "\n",
      "Original order of the list after sorted:\n",
      "['Paris', 'Madinah', 'Seoul', 'Busan', 'Tokyo']\n",
      "\n",
      "List in reverse-alphabetical order (using sorted():)\n",
      "['Tokyo', 'Seoul', 'Paris', 'Madinah', 'Busan']\n",
      "['Paris', 'Madinah', 'Seoul', 'Busan', 'Tokyo']\n",
      "\n",
      "List after using the reverse():\n",
      "\n",
      "List after again using reverse():\n",
      "['Paris', 'Madinah', 'Seoul', 'Busan', 'Tokyo']\n",
      "\n",
      "List after using the sort():\n",
      "['Busan', 'Madinah', 'Paris', 'Seoul', 'Tokyo']\n",
      "\n",
      "List after using sort to store in reverse-alphabetical order:\n",
      "['Tokyo', 'Seoul', 'Paris', 'Madinah', 'Busan']\n"
     ]
    }
   ],
   "source": [
    "#3-8: Seeing The World\n",
    "#List of places to visit (not in alphabetical order)\n",
    "places_to_visit=['Paris','Madinah','Seoul','Busan','Tokyo']\n",
    "#Print the original list\n",
    "print('Original list:')\n",
    "print(places_to_visit)\n",
    "#Print the list in alphabetical order\n",
    "print(\"\\nList in alphabetical order(using sorted()):\")\n",
    "print(sorted(places_to_visit))\n",
    "#Showing the list is in it's original order\n",
    "print('\\nOriginal order of the list after sorted:')\n",
    "print(places_to_visit)\n",
    "#Print the list in reverse-alphabetical order\n",
    "print('\\nList in reverse-alphabetical order (using sorted():)')\n",
    "print(sorted(places_to_visit,reverse=True))\n",
    "#Showing the list is still in it's original order\n",
    "print(places_to_visit)\n",
    "#Using reverse() to change the order of the list\n",
    "places_to_visit.reverse()\n",
    "print('\\nList after using the reverse():')\n",
    "#Again using reverse() to change the order back to the original order\n",
    "places_to_visit.reverse()\n",
    "print('\\nList after again using reverse():')\n",
    "print(places_to_visit)\n",
    "#Using sort() to change the order alphabetically \n",
    "places_to_visit.sort()\n",
    "print('\\nList after using the sort():')\n",
    "print(places_to_visit)\n",
    "#Using sort() to change the order to store in reverse-alphabetical order\n",
    "places_to_visit.sort(reverse=True)\n",
    "print('\\nList after using sort to store in reverse-alphabetical order:')\n",
    "print(places_to_visit)"
   ]
  },
  {
   "cell_type": "code",
   "execution_count": 12,
   "metadata": {},
   "outputs": [
    {
     "name": "stdout",
     "output_type": "stream",
     "text": [
      "The list is:['Mount Fuji', 'Indus', 'China', 'Paris', 'Korean']\n",
      "The list after using append(): \n",
      "['Mount Fuji', 'Indus', 'China', 'Paris', 'Korean', 'Islam']\n",
      "The list after using extend(): \n",
      "['Mount Fuji', 'Indus', 'China', 'Paris', 'Korean', 'Islam', 'Pacific Ocean', 'Asia']\n",
      "The list after using insert(): \n",
      "['Sahara Desert', 'Mount Fuji', 'Indus', 'China', 'Paris', 'Korean', 'Islam', 'Pacific Ocean', 'Asia']\n",
      "The list after remove(): \n",
      "['Sahara Desert', 'Mount Fuji', 'Indus', 'China', 'Paris', 'Korean', 'Islam', 'Asia']\n",
      "The list after the pop(): \n",
      "['Mount Fuji', 'Indus', 'China', 'Paris', 'Korean', 'Islam', 'Asia']\n",
      "The popped item:Sahara Desert\n",
      "Index of Mount Fuji:\n",
      "0\n",
      "The count of Korean:\n",
      "1\n",
      "The list after sort():\n",
      "['Asia', 'China', 'Indus', 'Islam', 'Korean', 'Mount Fuji', 'Paris']\n",
      "The list after reverse():\n",
      "['Paris', 'Mount Fuji', 'Korean', 'Islam', 'Indus', 'China', 'Asia']\n",
      "The copied list:\n",
      "<built-in method copy of list object at 0x000001C32CAE6980>\n",
      "The cleared list:\n",
      "[]\n"
     ]
    }
   ],
   "source": [
    "#3-9: Every Function\n",
    "#Creating a list of items\n",
    "items=['Mount Fuji','Indus','China','Paris','Korean']\n",
    "#Print the list\n",
    "print(f'The list is:{items}')\n",
    "#Using append() function\n",
    "items.append('Islam')\n",
    "#Print the appended list\n",
    "print(f'The list after using append(): \\n{items}')\n",
    "#Using the extend() function\n",
    "new_items=['Pacific Ocean','Asia']\n",
    "items.extend(new_items)\n",
    "#Print the extended list\n",
    "print(f'The list after using extend(): \\n{items}')\n",
    "#Using insert() function\n",
    "items.insert(0,'Sahara Desert')\n",
    "#Print the inserted list\n",
    "print(f'The list after using insert(): \\n{items}')\n",
    "#Using remove() function\n",
    "items.remove('Pacific Ocean')\n",
    "#Print the list after using remove() function\n",
    "print(f'The list after remove(): \\n{items}')\n",
    "#Using pop() function\n",
    "popped_item=items.pop(0)\n",
    "#Print the list after the pop() function and the popped item\n",
    "print(f'The list after the pop(): \\n{items}')\n",
    "print(f'The popped item:{popped_item}')\n",
    "#Using index() function\n",
    "index_of_mount_fuji=items.index('Mount Fuji')\n",
    "#Print the index\n",
    "print(f'Index of Mount Fuji:\\n{index_of_mount_fuji}')\n",
    "#Using count() function\n",
    "count_of_korean=items.count('Korean')\n",
    "#Print the count\n",
    "print(f'The count of Korean:\\n{count_of_korean}')\n",
    "#Using sort() function\n",
    "items.sort()\n",
    "#Print the sorted list\n",
    "print(f'The list after sort():\\n{items}')\n",
    "#Using reverse() function\n",
    "items.reverse()\n",
    "#Print the reversed list\n",
    "print(f'The list after reverse():\\n{items}')\n",
    "#Using copy() function\n",
    "copy_items=items.copy\n",
    "#Print the copied list\n",
    "print(f'The copied list:\\n{copy_items}')\n",
    "#Using clear() function\n",
    "items.clear()\n",
    "#Print the cleared list\n",
    "print(f'The cleared list:\\n{items}')#3-9: Every Function"
   ]
  },
  {
   "cell_type": "code",
   "execution_count": 13,
   "metadata": {},
   "outputs": [
    {
     "ename": "IndexError",
     "evalue": "list index out of range",
     "output_type": "error",
     "traceback": [
      "\u001b[1;31m---------------------------------------------------------------------------\u001b[0m",
      "\u001b[1;31mIndexError\u001b[0m                                Traceback (most recent call last)",
      "Cell \u001b[1;32mIn[13], line 5\u001b[0m\n\u001b[0;32m      3\u001b[0m \u001b[38;5;28mlist\u001b[39m\u001b[38;5;241m=\u001b[39m[\u001b[38;5;124m'\u001b[39m\u001b[38;5;124mapple\u001b[39m\u001b[38;5;124m'\u001b[39m,\u001b[38;5;124m'\u001b[39m\u001b[38;5;124mbanana\u001b[39m\u001b[38;5;124m'\u001b[39m,\u001b[38;5;124m'\u001b[39m\u001b[38;5;124mgrapes\u001b[39m\u001b[38;5;124m'\u001b[39m,\u001b[38;5;124m'\u001b[39m\u001b[38;5;124mstrawberry\u001b[39m\u001b[38;5;124m'\u001b[39m]\n\u001b[0;32m      4\u001b[0m \u001b[38;5;66;03m#Creating an index error\u001b[39;00m\n\u001b[1;32m----> 5\u001b[0m error_item\u001b[38;5;241m=\u001b[39m\u001b[38;5;28;43mlist\u001b[39;49m\u001b[43m[\u001b[49m\u001b[38;5;241;43m7\u001b[39;49m\u001b[43m]\u001b[49m\n\u001b[0;32m      6\u001b[0m \u001b[38;5;28mprint\u001b[39m(\u001b[38;5;124mf\u001b[39m\u001b[38;5;124m'\u001b[39m\u001b[38;5;124mAccessing out of range index number:\u001b[39m\u001b[38;5;132;01m{\u001b[39;00merror_item\u001b[38;5;132;01m}\u001b[39;00m\u001b[38;5;124m'\u001b[39m)\n",
      "\u001b[1;31mIndexError\u001b[0m: list index out of range"
     ]
    }
   ],
   "source": [
    "#3-10: Intentional Error\n",
    "#Creating a list\n",
    "list=['apple','banana','grapes','strawberry']\n",
    "#Creating an index error\n",
    "error_item=list[7]\n",
    "print(f'Accessing out of range index number:{error_item}')"
   ]
  }
 ],
 "metadata": {
  "kernelspec": {
   "display_name": "Python 3",
   "language": "python",
   "name": "python3"
  },
  "language_info": {
   "codemirror_mode": {
    "name": "ipython",
    "version": 3
   },
   "file_extension": ".py",
   "mimetype": "text/x-python",
   "name": "python",
   "nbconvert_exporter": "python",
   "pygments_lexer": "ipython3",
   "version": "3.12.4"
  }
 },
 "nbformat": 4,
 "nbformat_minor": 2
}
